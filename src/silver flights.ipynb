{
 "cells": [
  {
   "cell_type": "code",
   "execution_count": 0,
   "metadata": {
    "application/vnd.databricks.v1+cell": {
     "cellMetadata": {
      "byteLimit": 2048000,
      "rowLimit": 10000
     },
     "inputWidgets": {},
     "nuid": "ed6e4ae8-624c-43bc-891b-0f179bc717fc",
     "showTitle": false,
     "tableResultSettingsMap": {},
     "title": ""
    }
   },
   "outputs": [],
   "source": [
    "df_bronze = spark.table(\"bronze.flights.us_flights\")"
   ]
  },
  {
   "cell_type": "code",
   "execution_count": 0,
   "metadata": {
    "application/vnd.databricks.v1+cell": {
     "cellMetadata": {
      "byteLimit": 2048000,
      "rowLimit": 10000
     },
     "inputWidgets": {},
     "nuid": "efc33e6d-65e1-49b8-8635-27515d3b24cd",
     "showTitle": false,
     "tableResultSettingsMap": {},
     "title": ""
    }
   },
   "outputs": [],
   "source": [
    "df_states = spark.table(\"silver_db.dim.states_dim\")"
   ]
  },
  {
   "cell_type": "code",
   "execution_count": 0,
   "metadata": {
    "application/vnd.databricks.v1+cell": {
     "cellMetadata": {
      "byteLimit": 2048000,
      "rowLimit": 10000
     },
     "inputWidgets": {},
     "nuid": "8c08c716-aec8-423d-9ac1-f4d0611574ec",
     "showTitle": false,
     "tableResultSettingsMap": {},
     "title": ""
    }
   },
   "outputs": [],
   "source": [
    "df_silver = df_bronze\n",
    "\n",
    "df_silver = df_silver.drop(\"tbl\", \"tbl1apk\", \"Geocoded_City1\", \"Geocoded_City2\")\n",
    "\n",
    "rename_map = {\n",
    "    \"Year\": \"year\",\n",
    "    \"quarter\": \"quarter\",\n",
    "    \"airportid_1\": \"airportid_origin\",\n",
    "    \"airportid_2\": \"airportid_dest\",\n",
    "    \"airport_1\": \"airport_origin\",\n",
    "    \"airport_2\": \"airport_dest\",\n",
    "    \"passengers\": \"passengers\",\n",
    "    \"nsmiles\": \"distance_miles\",\n",
    "    \"citymarketid_1\": \"citymarket_origin\",\n",
    "    \"citymarketid_2\": \"citymarket_dest\",\n",
    "    \"city1\": \"city_origin\",\n",
    "    \"city2\": \"city_dest\",\n",
    "    \"fare\": \"avg_fare\",\n",
    "    \"fare_lg\": \"avg_fare_large_carry\",\n",
    "    \"large_ms\": \"market_share_large_carry\",\n",
    "    \"fare_low\": \"avg_fare_low_cost\",\n",
    "    \"lf_ms\": \"market_share_low_cost\",\n",
    "    \"carrier_lg\": \"largest_carry_by_passengers\",\n",
    "    \"carrier_low\": \"lowest_carry_by_passengers\"\n",
    "}\n",
    "\n",
    "for old_col, new_col in rename_map.items():\n",
    "    df_silver = df_silver.withColumnRenamed(old_col, new_col)"
   ]
  },
  {
   "cell_type": "code",
   "execution_count": 0,
   "metadata": {
    "application/vnd.databricks.v1+cell": {
     "cellMetadata": {
      "byteLimit": 2048000,
      "rowLimit": 10000
     },
     "inputWidgets": {},
     "nuid": "d18a4a7f-46ef-47e5-9ca7-980de3a211c8",
     "showTitle": false,
     "tableResultSettingsMap": {},
     "title": ""
    }
   },
   "outputs": [],
   "source": [
    "%python\n",
    "from pyspark.sql.functions import split, expr\n",
    "\n",
    "# Separate the state in the city_origin and city_dest\n",
    "df_silver = df_silver.withColumn(\"state_origin\", expr(\"try_element_at(split(city_origin, ', '), 2)\"))\n",
    "df_silver = df_silver.withColumn(\"city_origin\", split(df_silver[\"city_origin\"], \", \")[0])\n",
    "df_silver = df_silver.withColumn(\"state_dest\", expr(\"try_element_at(split(city_dest, ', '), 2)\"))\n",
    "df_silver = df_silver.withColumn(\"city_dest\", split(df_silver[\"city_dest\"], \", \")[0])"
   ]
  },
  {
   "cell_type": "code",
   "execution_count": 0,
   "metadata": {
    "application/vnd.databricks.v1+cell": {
     "cellMetadata": {
      "byteLimit": 2048000,
      "rowLimit": 10000
     },
     "inputWidgets": {},
     "nuid": "432ae479-ae33-4e63-8292-e4b0e5a47360",
     "showTitle": false,
     "tableResultSettingsMap": {},
     "title": ""
    }
   },
   "outputs": [],
   "source": [
    "from pyspark.sql.functions import col, substring\n",
    "\n",
    "# Cria colunas temporárias com apenas os dois primeiros caracteres\n",
    "df_silver_tmp = (\n",
    "    df_silver\n",
    "    .withColumn(\"state_origin_prefix\", substring(col(\"state_origin\"), 1, 2))\n",
    "    .withColumn(\"state_dest_prefix\", substring(col(\"state_dest\"), 1, 2))\n",
    ")\n",
    "\n",
    "# Cria os dataframes de estado (como antes, com nomes adaptados)\n",
    "df_states_origin = df_states.selectExpr(\"state as state_origin_prefix\", \"name as state_origin_name\")\n",
    "df_states_dest   = df_states.selectExpr(\"state as state_dest_prefix\", \"name as state_dest_name\")\n",
    "\n",
    "# Faz os joins com os prefixos\n",
    "df_silver = (\n",
    "    df_silver_tmp\n",
    "    .join(df_states_origin, on=\"state_origin_prefix\", how=\"left\")\n",
    "    .join(df_states_dest, on=\"state_dest_prefix\", how=\"left\")\n",
    ")\n",
    "\n",
    "df_silver = df_silver.drop(\"state_origin_prefix\", \"state_dest_prefix\")\n"
   ]
  },
  {
   "cell_type": "code",
   "execution_count": 0,
   "metadata": {
    "application/vnd.databricks.v1+cell": {
     "cellMetadata": {
      "byteLimit": 2048000,
      "rowLimit": 10000
     },
     "inputWidgets": {},
     "nuid": "8b819e23-2408-4e70-a684-c33dd9019946",
     "showTitle": false,
     "tableResultSettingsMap": {},
     "title": ""
    }
   },
   "outputs": [],
   "source": [
    "# fix the column types\n",
    "df_silver = df_silver.withColumn(\"year\", df_silver[\"year\"].cast(\"int\"))\n",
    "df_silver = df_silver.withColumn(\"quarter\", df_silver[\"quarter\"].cast(\"int\"))\n",
    "df_silver = df_silver.withColumn(\"passengers\", df_silver[\"passengers\"].cast(\"int\"))\n",
    "df_silver = df_silver.withColumn(\"distance_miles\", df_silver[\"distance_miles\"].cast(\"int\"))\n",
    "df_silver = df_silver.withColumn(\"avg_fare\", df_silver[\"avg_fare\"].cast(\"float\"))\n",
    "df_silver = df_silver.withColumn(\"avg_fare_large_carry\", df_silver[\"avg_fare_large_carry\"].cast(\"float\"))\n",
    "df_silver = df_silver.withColumn(\"market_share_large_carry\", df_silver[\"market_share_large_carry\"].cast(\"float\"))\n",
    "df_silver = df_silver.withColumn(\"avg_fare_low_cost\", df_silver[\"avg_fare_low_cost\"].cast(\"float\"))\n",
    "df_silver = df_silver.withColumn(\"market_share_low_cost\", df_silver[\"market_share_low_cost\"].cast(\"float\"))"
   ]
  },
  {
   "cell_type": "code",
   "execution_count": 0,
   "metadata": {
    "application/vnd.databricks.v1+cell": {
     "cellMetadata": {
      "byteLimit": 2048000,
      "rowLimit": 10000
     },
     "inputWidgets": {},
     "nuid": "2540dbd7-ef11-4018-a154-5d284d4dab64",
     "showTitle": false,
     "tableResultSettingsMap": {},
     "title": ""
    }
   },
   "outputs": [],
   "source": [
    "desired_order = [\n",
    "    \"year\", \"quarter\", \n",
    "    \"citymarket_origin\", \"city_origin\", \"state_origin\", \"state_origin_name\", \"airportid_origin\",  \"airport_origin\", \n",
    "    \"citymarket_dest\", \"city_dest\", \"state_dest\", \"state_dest_name\", \"airportid_dest\", \"airport_dest\", \n",
    "    \"passengers\", \"distance_miles\", \"avg_fare\", \"avg_fare_large_carry\", \"market_share_large_carry\",\n",
    "    \"avg_fare_low_cost\", \"market_share_low_cost\", \"largest_carry_by_passengers\",\n",
    "    \"lowest_carry_by_passengers\"\n",
    "]\n",
    "\n",
    "# Reorganize the columns\n",
    "df_silver = df_silver.select(desired_order)\n",
    "\n",
    "display(df_silver)"
   ]
  },
  {
   "cell_type": "code",
   "execution_count": 0,
   "metadata": {
    "application/vnd.databricks.v1+cell": {
     "cellMetadata": {
      "byteLimit": 2048000,
      "rowLimit": 10000
     },
     "inputWidgets": {},
     "nuid": "6a3fa1b4-7bae-445c-9c9e-2410bd2e4585",
     "showTitle": false,
     "tableResultSettingsMap": {},
     "title": ""
    }
   },
   "outputs": [],
   "source": [
    "# Write to the table\n",
    "df_silver.coalesce(1).write.mode(\"overwrite\").option(\"mergeSchema\", \"true\").saveAsTable(\"silver_db.flights.flights\")"
   ]
  }
 ],
 "metadata": {
  "application/vnd.databricks.v1+notebook": {
   "computePreferences": null,
   "dashboards": [],
   "environmentMetadata": {
    "base_environment": "",
    "environment_version": "2"
   },
   "inputWidgetPreferences": null,
   "language": "python",
   "notebookMetadata": {
    "pythonIndentUnit": 4
   },
   "notebookName": "silver flights",
   "widgets": {}
  },
  "language_info": {
   "name": "python"
  }
 },
 "nbformat": 4,
 "nbformat_minor": 0
}
