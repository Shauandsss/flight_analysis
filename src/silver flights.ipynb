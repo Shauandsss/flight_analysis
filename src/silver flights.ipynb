{
 "cells": [
  {
   "cell_type": "code",
   "execution_count": 0,
   "metadata": {
    "application/vnd.databricks.v1+cell": {
     "cellMetadata": {
      "byteLimit": 2048000,
      "rowLimit": 10000
     },
     "inputWidgets": {},
     "nuid": "ed6e4ae8-624c-43bc-891b-0f179bc717fc",
     "showTitle": false,
     "tableResultSettingsMap": {},
     "title": ""
    }
   },
   "outputs": [],
   "source": [
    "df_bronze = spark.table(\"bronze.flights.us_flights\")\n",
    "df_bronze.display()"
   ]
  },
  {
   "cell_type": "code",
   "execution_count": 0,
   "metadata": {
    "application/vnd.databricks.v1+cell": {
     "cellMetadata": {
      "byteLimit": 2048000,
      "rowLimit": 10000
     },
     "inputWidgets": {},
     "nuid": "8c08c716-aec8-423d-9ac1-f4d0611574ec",
     "showTitle": false,
     "tableResultSettingsMap": {},
     "title": ""
    }
   },
   "outputs": [],
   "source": [
    "df_silver = df_bronze\n",
    "\n",
    "df_silver = df_silver.drop(\"tbl\", \"tbl1apk\", \"Geocoded_City1\", \"Geocoded_City2\")\n",
    "\n",
    "rename_map = {\n",
    "    \"Year\": \"year\",\n",
    "    \"airportid_1\": \"airportid_origin\",\n",
    "    \"airportid_2\": \"airportid_dest\",\n",
    "    \"airport_1\": \"airport_origin\",\n",
    "    \"airport_2\": \"airport_dest\",\n",
    "    \"nsmiles\": \"distance_miles\",\n",
    "    \"citymarketid_1\": \"citymarket_origin\",\n",
    "    \"citymarketid_2\": \"citymarket_dest\",\n",
    "    \"city1\": \"city_origin\",\n",
    "    \"city2\": \"city_dest\",\n",
    "    \"fare\": \"avg_fare\",\n",
    "    \"fare_lg\": \"avg_fare_large_carry\",\n",
    "    \"large_ms\": \"market_share_large_carry\",\n",
    "    \"fare_low\": \"avg_fare_low_cost\",\n",
    "    \"lf_ms\": \"market_share_low_cost\",\n",
    "    \"carrier_lg\": \"largest_carry_by_passengers\",\n",
    "    \"carrier_low\": \"lowest_carry_by_passengers\"\n",
    "}\n",
    "\n",
    "for old_col, new_col in rename_map.items():\n",
    "    df_silver = df_silver.withColumnRenamed(old_col, new_col)"
   ]
  },
  {
   "cell_type": "code",
   "execution_count": 0,
   "metadata": {
    "application/vnd.databricks.v1+cell": {
     "cellMetadata": {
      "byteLimit": 2048000,
      "rowLimit": 10000
     },
     "inputWidgets": {},
     "nuid": "9fbaad53-a775-405a-b618-50f8f27b442c",
     "showTitle": false,
     "tableResultSettingsMap": {},
     "title": ""
    }
   },
   "outputs": [],
   "source": [
    "df_silver.display()"
   ]
  },
  {
   "cell_type": "code",
   "execution_count": 0,
   "metadata": {
    "application/vnd.databricks.v1+cell": {
     "cellMetadata": {
      "byteLimit": 2048000,
      "rowLimit": 10000
     },
     "inputWidgets": {},
     "nuid": "6a3fa1b4-7bae-445c-9c9e-2410bd2e4585",
     "showTitle": false,
     "tableResultSettingsMap": {},
     "title": ""
    }
   },
   "outputs": [],
   "source": [
    "# Write to the table\n",
    "df_silver.coalesce(1).write.mode(\"overwrite\").saveAsTable(\"silver.flights.flights\")"
   ]
  }
 ],
 "metadata": {
  "application/vnd.databricks.v1+notebook": {
   "computePreferences": null,
   "dashboards": [],
   "environmentMetadata": {
    "base_environment": "",
    "environment_version": "2"
   },
   "inputWidgetPreferences": null,
   "language": "python",
   "notebookMetadata": {
    "pythonIndentUnit": 4
   },
   "notebookName": "silver flights",
   "widgets": {}
  },
  "language_info": {
   "name": "python"
  }
 },
 "nbformat": 4,
 "nbformat_minor": 0
}
